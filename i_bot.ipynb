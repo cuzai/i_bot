{
 "metadata": {
  "language_info": {
   "codemirror_mode": {
    "name": "ipython",
    "version": 3
   },
   "file_extension": ".py",
   "mimetype": "text/x-python",
   "name": "python",
   "nbconvert_exporter": "python",
   "pygments_lexer": "ipython3",
   "version": "3.6.13-final"
  },
  "orig_nbformat": 2,
  "kernelspec": {
   "name": "python3",
   "display_name": "Python 3",
   "language": "python"
  }
 },
 "nbformat": 4,
 "nbformat_minor": 2,
 "cells": [
  {
   "cell_type": "code",
   "execution_count": 2,
   "metadata": {},
   "outputs": [
    {
     "output_type": "stream",
     "name": "stdout",
     "text": [
      "chromebrowser_ver : 89.0.4389.90\n"
     ]
    }
   ],
   "source": [
    "import os\n",
    "import numpy as np\n",
    "import time\n",
    "\n",
    "from selenium import webdriver\n",
    "from selenium.webdriver.chrome.options import Options\n",
    "from selenium.webdriver.support.ui import WebDriverWait\n",
    "from selenium.webdriver.support import expected_conditions as EC\n",
    "from selenium.webdriver.common.by import By\n",
    "from selenium.webdriver.common.keys import Keys\n",
    "\n",
    "from Check_Chromedriver import Check_Chromedriver"
   ]
  },
  {
   "cell_type": "code",
   "execution_count": 18,
   "metadata": {},
   "outputs": [
    {
     "output_type": "stream",
     "name": "stdout",
     "text": [
      "chromedriver_ver : 89.0.4389.23\n"
     ]
    }
   ],
   "source": [
    "# setting\n",
    "Check_Chromedriver.main()\n",
    "cwd = os.getcwd()\n",
    "follow_li = []\n",
    "with open(\"follow.txt\", \"r\") as follow :\n",
    "    follow_li = follow.read().split(\"\\n\")\n",
    "\n",
    "# set option\n",
    "options = Options()\n",
    "options.add_argument('--user-data-dir=C:/Users/Lotte Digital/AppData/Local/Google/Chrome/User Data/Profile 2')\n",
    "extension_path = os.path.join(cwd, \"extensions/lcnhdebfcdfbifgkkofhmalbiglindgi.crx\")\n",
    "options.add_extension(extension_path)\n",
    "\n",
    "# get driver\n",
    "driver_path = os.path.join(cwd, \"chromedriver/chromedriver\")\n",
    "driver = webdriver.Chrome(driver_path, options=options)\n",
    "\n",
    "# get to instagram\n",
    "driver.get(\"https://www.google.com/search?q=%EC%9D%B8%EC%8A%A4%ED%83%80%EA%B7%B8%EB%9E%A8&oq=%EC%9D%B8%EC%8A%A4%ED%83%80%EA%B7%B8%EB%9E%A8&aqs=chrome.0.69i59l3j35i39j69i59j69i61j69i60j69i61.1050j0j7&sourceid=chrome&ie=UTF-8\")\n",
    "\n",
    "time.sleep(np.random.randint(1, 5))\n",
    "driver.find_element_by_css_selector(\"a[href='https://www.instagram.com/']\").click()\n",
    "driver.switch_to_window(driver.window_handles[-1])"
   ]
  },
  {
   "cell_type": "code",
   "execution_count": 20,
   "metadata": {},
   "outputs": [],
   "source": [
    "def find_element(driver, selector) :\n",
    "    WebDriverWait(driver, 60).until(EC.presence_of_element_located((By.CSS_SELECTOR, selector)))\n",
    "    return driver.find_element_by_css_selector(selector)\n",
    "\n",
    "def find_elements(driver, selector) :\n",
    "    WebDriverWait(driver, 60).until(EC.presence_of_element_located((By.CSS_SELECTOR, selector)))\n",
    "    return driver.find_elements_by_css_selector(selector)\n"
   ]
  },
  {
   "cell_type": "code",
   "execution_count": 21,
   "metadata": {},
   "outputs": [],
   "source": [
    "# search and click\n",
    "# search\n",
    "time.sleep(np.random.randint(1, 5))\n",
    "find_element(driver, \"svg[aria-label='검색 및 탐색하기']\").click()\n",
    "\n",
    "time.sleep(np.random.randint(1, 5))\n",
    "find_element(driver, \"input[type='search']\").click()\n",
    "\n",
    "time.sleep(np.random.randint(1, 5))\n",
    "find_element(driver, \"input[type='search']\").send_keys(\"홈쿡\")\n",
    "\n",
    "time.sleep(np.random.randint(1, 5))\n",
    "find_element(driver, \"input[type='search']\").send_keys(Keys.ENTER)\n",
    "\n",
    "# click\n",
    "time.sleep(np.random.randint(1, 5))\n",
    "li_tag = find_elements(driver, \"main[role='main'] ul > li\")[0]\n",
    "a_tag = find_elements(li_tag, \"a\")[0]\n",
    "a_tag.click()"
   ]
  },
  {
   "cell_type": "code",
   "execution_count": 24,
   "metadata": {},
   "outputs": [],
   "source": [
    "# get post url\n",
    "popular_article = find_elements(driver, \"article > div\")[0]\n",
    "indiv_post = find_elements(popular_article, \"a\")\n",
    "\n",
    "post_url = []\n",
    "for post in indiv_post :\n",
    "    url = post.get_attribute(\"href\")\n",
    "    post_url.append(url)"
   ]
  },
  {
   "cell_type": "code",
   "execution_count": 25,
   "metadata": {},
   "outputs": [],
   "source": [
    "# get to respective post\n",
    "for url in post_url :\n",
    "    # get to url\n",
    "    time.sleep(np.random.randint(1, 5))\n",
    "    driver.get(url)\n",
    "\n",
    "    # get id\n",
    "    id_raw = find_element(driver, \"img[data-testid='user-avatar']\").get_attribute(\"alt\")\n",
    "    got_id = id_raw.split(\"님의\")[0]\n",
    "\n",
    "    # check if already followed\n",
    "    if got_id in follow_li :\n",
    "        continue\n",
    "    else : follow_li.append(got_id)\n",
    "\n",
    "    # click like\n",
    "    time.sleep(np.random.randint(1, 5))\n",
    "    find_element(driver, \"svg[aria-label='좋아요']\").click()\n",
    "\n",
    "    # comment\n",
    "    time.sleep(np.random.randint(1, 5))\n",
    "    find_element(driver, \"textarea[aria-label='댓글 달기...']\").send_keys(\"너무 맛있어 보이네요 파는 것 같아요!!\")\n",
    "    break"
   ]
  },
  {
   "cell_type": "code",
   "execution_count": null,
   "metadata": {},
   "outputs": [],
   "source": []
  }
 ]
}