{
 "metadata": {
  "language_info": {
   "codemirror_mode": {
    "name": "ipython",
    "version": 3
   },
   "file_extension": ".py",
   "mimetype": "text/x-python",
   "name": "python",
   "nbconvert_exporter": "python",
   "pygments_lexer": "ipython3",
   "version": "3.7.7-final"
  },
  "orig_nbformat": 2,
  "kernelspec": {
   "name": "python3",
   "display_name": "Python 3",
   "language": "python"
  }
 },
 "nbformat": 4,
 "nbformat_minor": 2,
 "cells": [
  {
   "cell_type": "code",
   "execution_count": 1,
   "metadata": {},
   "outputs": [
    {
     "output_type": "stream",
     "name": "stdout",
     "text": [
      "chromebrowser_ver : 89.0.4389.90\n"
     ]
    }
   ],
   "source": [
    "import os\n",
    "import numpy as np\n",
    "import time\n",
    "\n",
    "from selenium import webdriver\n",
    "from selenium.webdriver.chrome.options import Options\n",
    "from selenium.webdriver.support.ui import WebDriverWait\n",
    "from selenium.webdriver.support import expected_conditions as EC\n",
    "from selenium.webdriver.common.by import By\n",
    "from selenium.webdriver.common.keys import Keys\n",
    "\n",
    "from Check_Chromedriver import Check_Chromedriver"
   ]
  },
  {
   "cell_type": "code",
   "execution_count": 2,
   "metadata": {},
   "outputs": [],
   "source": [
    "input_id = input(\"id\")\n",
    "input_pwd = input(\"pwd\")"
   ]
  },
  {
   "cell_type": "code",
   "execution_count": 40,
   "metadata": {},
   "outputs": [
    {
     "output_type": "stream",
     "name": "stdout",
     "text": [
      "chromedriver_ver : 89.0.4389.23\n",
      "C:\\Users\\Lotte Digital\\.conda\\envs\\CampaignKPI\\lib\\site-packages\\ipykernel_launcher.py:12: DeprecationWarning: use options instead of chrome_options\n",
      "  if sys.path[0] == '':\n"
     ]
    }
   ],
   "source": [
    "# setting\n",
    "Check_Chromedriver.main()\n",
    "cwd = os.getcwd()\n",
    "\n",
    "# set option\n",
    "options = Options()\n",
    "extension_path = os.path.join(cwd, \"extensions/lcnhdebfcdfbifgkkofhmalbiglindgi.crx\")\n",
    "options.add_extension(extension_path)\n",
    "\n",
    "# get driver\n",
    "driver_path = os.path.join(cwd, \"chromedriver/chromedriver\")\n",
    "driver = webdriver.Chrome(driver_path, chrome_options=options)\n",
    "driver.get(\"https://www.instagram.com/\")"
   ]
  },
  {
   "cell_type": "code",
   "execution_count": 41,
   "metadata": {},
   "outputs": [],
   "source": [
    "def find_element(driver, selector) :\n",
    "    WebDriverWait(driver, 60).until(EC.presence_of_element_located((By.CSS_SELECTOR, selector)))\n",
    "    return driver.find_element_by_css_selector(selector)\n",
    "\n",
    "def find_elements(driver, selector) :\n",
    "    WebDriverWait(driver, 60).until(EC.presence_of_element_located((By.CSS_SELECTOR, selector)))\n",
    "    return driver.find_elements_by_css_selector(selector)\n"
   ]
  },
  {
   "cell_type": "code",
   "execution_count": 42,
   "metadata": {},
   "outputs": [],
   "source": [
    "# login\n",
    "driver.implicitly_wait(10)\n",
    "find_element(driver, \"button[type='button']\").click()\n",
    "find_element(driver, \"input[aria-label='전화번호, 사용자 이름 또는 이메일']\").send_keys(input_id)\n",
    "find_element(driver, \"input[aria-label='비밀번호']\").send_keys(input_pwd)\n",
    "find_element(driver, \"button[type='submit']\").click()"
   ]
  },
  {
   "cell_type": "code",
   "execution_count": 43,
   "metadata": {},
   "outputs": [],
   "source": [
    "# pass useless page1(나중에 하기)\n",
    "driver.implicitly_wait(10)\n",
    "is_found = False\n",
    "while not is_found : \n",
    "    temp = find_elements(driver, \"button[type='button']\")\n",
    "    for i in temp :\n",
    "        if i.text == \"나중에 하기\" :\n",
    "            i.click()\n",
    "            is_found = True\n",
    "            break"
   ]
  },
  {
   "cell_type": "code",
   "execution_count": 44,
   "metadata": {},
   "outputs": [],
   "source": [
    "# pass useless page1(홈 화면에 추가)\n",
    "driver.implicitly_wait(10)\n",
    "is_found = False\n",
    "while not is_found : \n",
    "    temp = find_elements(driver, \"button\")\n",
    "    for i in temp :\n",
    "        if i.text == \"취소\" :\n",
    "            i.click()\n",
    "            is_found = True\n",
    "            break"
   ]
  },
  {
   "cell_type": "code",
   "execution_count": null,
   "metadata": {},
   "outputs": [],
   "source": []
  }
 ]
}