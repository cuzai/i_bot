{
 "metadata": {
  "language_info": {
   "codemirror_mode": {
    "name": "ipython",
    "version": 3
   },
   "file_extension": ".py",
   "mimetype": "text/x-python",
   "name": "python",
   "nbconvert_exporter": "python",
   "pygments_lexer": "ipython3",
   "version": "3.6.13-final"
  },
  "orig_nbformat": 2,
  "kernelspec": {
   "name": "python3",
   "display_name": "Python 3",
   "language": "python"
  }
 },
 "nbformat": 4,
 "nbformat_minor": 2,
 "cells": [
  {
   "cell_type": "code",
   "execution_count": 1,
   "metadata": {},
   "outputs": [
    {
     "output_type": "stream",
     "name": "stdout",
     "text": [
      "chromebrowser_ver : 89.0.4389.90\n"
     ]
    }
   ],
   "source": [
    "import os\n",
    "import numpy as np\n",
    "import time\n",
    "\n",
    "from selenium import webdriver\n",
    "from selenium.webdriver.chrome.options import Options\n",
    "from selenium.webdriver.support.ui import WebDriverWait\n",
    "from selenium.webdriver.support import expected_conditions as EC\n",
    "from selenium.webdriver.common.by import By\n",
    "from selenium.webdriver.common.keys import Keys\n",
    "\n",
    "from Check_Chromedriver import Check_Chromedriver"
   ]
  },
  {
   "cell_type": "code",
   "execution_count": 2,
   "metadata": {},
   "outputs": [
    {
     "output_type": "stream",
     "name": "stdout",
     "text": [
      "chromedriver_ver : 89.0.4389.23\n"
     ]
    }
   ],
   "source": [
    "# setting\n",
    "Check_Chromedriver.main()\n",
    "cwd = os.getcwd()\n",
    "\n",
    "# set option\n",
    "options = Options()\n",
    "options.add_argument('--user-data-dir=C:/Users/Lotte Digital/AppData/Local/Google/Chrome/User Data/Profile 2')\n",
    "extension_path = os.path.join(cwd, \"extensions/lcnhdebfcdfbifgkkofhmalbiglindgi.crx\")\n",
    "options.add_extension(extension_path)\n",
    "\n",
    "# get driver\n",
    "driver_path = os.path.join(cwd, \"chromedriver/chromedriver\")\n",
    "driver = webdriver.Chrome(driver_path, options=options)\n",
    "\n",
    "# get to instagram\n",
    "driver.get(\"https://www.google.com/search?q=%EC%9D%B8%EC%8A%A4%ED%83%80%EA%B7%B8%EB%9E%A8&oq=%EC%9D%B8%EC%8A%A4%ED%83%80%EA%B7%B8%EB%9E%A8&aqs=chrome.0.69i59l3j35i39j69i59j69i61j69i60j69i61.1050j0j7&sourceid=chrome&ie=UTF-8\")\n",
    "driver.implicitly_wait(10)\n",
    "driver.get(\"https://www.instagram.com/\")\n",
    "driver.implicitly_wait(10)"
   ]
  },
  {
   "cell_type": "code",
   "execution_count": 3,
   "metadata": {},
   "outputs": [],
   "source": [
    "def find_element(driver, selector) :\n",
    "    WebDriverWait(driver, 60).until(EC.presence_of_element_located((By.CSS_SELECTOR, selector)))\n",
    "    return driver.find_element_by_css_selector(selector)\n",
    "\n",
    "def find_elements(driver, selector) :\n",
    "    WebDriverWait(driver, 60).until(EC.presence_of_element_located((By.CSS_SELECTOR, selector)))\n",
    "    return driver.find_elements_by_css_selector(selector)\n"
   ]
  },
  {
   "cell_type": "code",
   "execution_count": 4,
   "metadata": {},
   "outputs": [],
   "source": [
    "# search and click\n",
    "# search\n",
    "time.sleep(np.random.randint(1, 5))\n",
    "find_element(driver, \"svg[aria-label='검색 및 탐색하기']\").click()\n",
    "\n",
    "time.sleep(np.random.randint(1, 5))\n",
    "find_element(driver, \"input[type='search']\").click()\n",
    "\n",
    "time.sleep(np.random.randint(1, 5))\n",
    "find_element(driver, \"input[type='search']\").send_keys(\"홈쿡\")\n",
    "\n",
    "time.sleep(np.random.randint(1, 5))\n",
    "find_element(driver, \"input[type='search']\").send_keys(Keys.ENTER)\n",
    "\n",
    "# click\n",
    "time.sleep(np.random.randint(1, 5))\n",
    "li_tag = find_elements(driver, \"main[role='main'] ul > li\")[0]\n",
    "a_tag = find_elements(li_tag, \"a\")[0]\n",
    "a_tag.click()"
   ]
  },
  {
   "cell_type": "code",
   "execution_count": 22,
   "metadata": {},
   "outputs": [],
   "source": [
    "time.sleep(np.random.randint(1, 5))\n",
    "li_tag = find_elements(driver, \"main[role='main'] ul > li\")[0]\n",
    "a_tag = find_elements(li_tag, \"a\")[0]\n",
    "a_tag.click()"
   ]
  },
  {
   "cell_type": "code",
   "execution_count": null,
   "metadata": {},
   "outputs": [],
   "source": []
  }
 ]
}